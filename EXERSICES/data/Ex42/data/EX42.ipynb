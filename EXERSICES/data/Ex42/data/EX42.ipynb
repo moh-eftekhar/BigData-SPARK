{
 "cells": [
  {
   "cell_type": "code",
   "execution_count": 1,
   "metadata": {},
   "outputs": [],
   "source": [
    "from pyspark import SparkContext, SparkConf\n",
    "conf = SparkConf().setAppName(\"EX42\").setMaster(\"local\")\n",
    "sc = SparkContext(conf=conf)"
   ]
  },
  {
   "cell_type": "code",
   "execution_count": 12,
   "metadata": {},
   "outputs": [],
   "source": [
    "inputpath_answer = \"answers.txt\"\n",
    "inputpath_question = \"questions.txt\"\n",
    "outputpath = \"EX42_output\""
   ]
  },
  {
   "cell_type": "code",
   "execution_count": 13,
   "metadata": {},
   "outputs": [],
   "source": [
    "inputRDD_answer = sc.textFile(inputpath_answer)\n",
    "inputRDD_question = sc.textFile(inputpath_question)"
   ]
  },
  {
   "cell_type": "code",
   "execution_count": 14,
   "metadata": {},
   "outputs": [],
   "source": [
    "questionkeyvalueRDD = inputRDD_question.map(lambda question: (question.split(\",\")[0], question.split(\",\")[2]))"
   ]
  },
  {
   "cell_type": "code",
   "execution_count": 15,
   "metadata": {},
   "outputs": [
    {
     "data": {
      "text/plain": [
       "[('Q1', 'What is ..?'), ('Q2', 'Who invented ..')]"
      ]
     },
     "execution_count": 15,
     "metadata": {},
     "output_type": "execute_result"
    }
   ],
   "source": [
    "questionkeyvalueRDD.collect()"
   ]
  },
  {
   "cell_type": "code",
   "execution_count": 16,
   "metadata": {},
   "outputs": [
    {
     "data": {
      "text/plain": [
       "[('Q1', 'It is ..'), ('Q2', 'John Smith'), ('Q1', 'I think it is ..')]"
      ]
     },
     "execution_count": 16,
     "metadata": {},
     "output_type": "execute_result"
    }
   ],
   "source": [
    "answerkeyvalueRDD = inputRDD_answer.map(lambda answer: (answer.split(\",\")[1], answer.split(\",\")[3]))\n",
    "answerkeyvalueRDD.collect()"
   ]
  },
  {
   "cell_type": "code",
   "execution_count": 25,
   "metadata": {},
   "outputs": [
    {
     "data": {
      "text/plain": [
       "[('Q1',\n",
       "  (<pyspark.resultiterable.ResultIterable at 0x15ebf0e9be0>,\n",
       "   <pyspark.resultiterable.ResultIterable at 0x15ec03c5c70>)),\n",
       " ('Q2',\n",
       "  (<pyspark.resultiterable.ResultIterable at 0x15ec03c5d00>,\n",
       "   <pyspark.resultiterable.ResultIterable at 0x15ec03c5610>))]"
      ]
     },
     "execution_count": 25,
     "metadata": {},
     "output_type": "execute_result"
    }
   ],
   "source": [
    "queansRDD = questionkeyvalueRDD.cogroup(answerkeyvalueRDD)\n",
    "queansRDD.collect()"
   ]
  },
  {
   "cell_type": "code",
   "execution_count": 26,
   "metadata": {},
   "outputs": [
    {
     "data": {
      "text/plain": [
       "[('Q1', (['What is ..?'], ['It is ..', 'I think it is ..'])),\n",
       " ('Q2', (['Who invented ..'], ['John Smith']))]"
      ]
     },
     "execution_count": 26,
     "metadata": {},
     "output_type": "execute_result"
    }
   ],
   "source": [
    "queanslistRDD = queansRDD.mapValues(lambda value: (list(value[0]), list(value[1]) ) )\n",
    "queanslistRDD.collect()"
   ]
  }
 ],
 "metadata": {
  "kernelspec": {
   "display_name": "base",
   "language": "python",
   "name": "python3"
  },
  "language_info": {
   "codemirror_mode": {
    "name": "ipython",
    "version": 3
   },
   "file_extension": ".py",
   "mimetype": "text/x-python",
   "name": "python",
   "nbconvert_exporter": "python",
   "pygments_lexer": "ipython3",
   "version": "3.9.12"
  }
 },
 "nbformat": 4,
 "nbformat_minor": 2
}
