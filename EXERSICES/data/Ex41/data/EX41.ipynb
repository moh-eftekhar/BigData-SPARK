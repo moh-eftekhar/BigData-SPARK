{
 "cells": [
  {
   "cell_type": "code",
   "execution_count": 1,
   "metadata": {},
   "outputs": [],
   "source": [
    "from pyspark import SparkContext, SparkConf\n",
    "conf = SparkConf().setAppName(\"EX41\").setMaster(\"local\")\n",
    "sc = SparkContext(conf=conf)"
   ]
  },
  {
   "cell_type": "code",
   "execution_count": 2,
   "metadata": {},
   "outputs": [],
   "source": [
    "inputpath = \"sensors.txt\"\n",
    "outputpath = \"EX41_output\""
   ]
  },
  {
   "cell_type": "code",
   "execution_count": 3,
   "metadata": {},
   "outputs": [],
   "source": [
    "inputRDD = sc.textFile(inputpath)"
   ]
  },
  {
   "cell_type": "code",
   "execution_count": 5,
   "metadata": {},
   "outputs": [
    {
     "name": "stdout",
     "output_type": "stream",
     "text": [
      "['s1,2016-01-02,60.2', 's1,2016-01-03,55.5', 's2,2016-01-03,52.5']\n"
     ]
    }
   ],
   "source": [
    "aboovetresholdRDD = inputRDD.filter(lambda x: float(x.split(\",\")[2]) > 50)\n",
    "print(aboovetresholdRDD.collect())"
   ]
  },
  {
   "cell_type": "code",
   "execution_count": 6,
   "metadata": {},
   "outputs": [
    {
     "name": "stdout",
     "output_type": "stream",
     "text": [
      "[('s1', 2), ('s2', 1)]\n"
     ]
    }
   ],
   "source": [
    "sensorabove50 = aboovetresholdRDD.map(lambda x: (x.split(\",\")[0], 1)).reduceByKey(lambda x, y: x + y)\n",
    "print(sensorabove50.collect())"
   ]
  },
  {
   "cell_type": "code",
   "execution_count": 8,
   "metadata": {},
   "outputs": [
    {
     "name": "stdout",
     "output_type": "stream",
     "text": [
      "[('s1', 2)]\n"
     ]
    }
   ],
   "source": [
    "topsensors = sensorabove50.top(1, lambda x: x[1])\n",
    "print(topsensors)"
   ]
  },
  {
   "cell_type": "code",
   "execution_count": 9,
   "metadata": {},
   "outputs": [
    {
     "name": "stdout",
     "output_type": "stream",
     "text": [
      "[('s1', 2)]\n"
     ]
    }
   ],
   "source": [
    "topksensors = sc.parallelize(topsensors)\n",
    "print(topksensors.collect())"
   ]
  },
  {
   "cell_type": "code",
   "execution_count": null,
   "metadata": {},
   "outputs": [],
   "source": []
  }
 ],
 "metadata": {
  "kernelspec": {
   "display_name": "base",
   "language": "python",
   "name": "python3"
  },
  "language_info": {
   "codemirror_mode": {
    "name": "ipython",
    "version": 3
   },
   "file_extension": ".py",
   "mimetype": "text/x-python",
   "name": "python",
   "nbconvert_exporter": "python",
   "pygments_lexer": "ipython3",
   "version": "3.9.12"
  }
 },
 "nbformat": 4,
 "nbformat_minor": 2
}
