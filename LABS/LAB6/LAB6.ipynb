{
 "cells": [
  {
   "cell_type": "code",
   "execution_count": 1,
   "metadata": {},
   "outputs": [],
   "source": [
    "from pyspark import SparkContext, SparkConf\n",
    "conf = SparkConf().setAppName(\"LAB6\")\n",
    "sc = SparkContext(conf=conf)"
   ]
  },
  {
   "cell_type": "code",
   "execution_count": 2,
   "metadata": {},
   "outputs": [],
   "source": [
    "inputpath = \"ReviewsSample.csv\"\n",
    "outputpath1 = \"LAB6_2024_res_1\"\n",
    "outputpath2 = \"LAB6_2024_res_2\"\n",
    "outputpath3 = \"LAB6_2024_res_3\""
   ]
  },
  {
   "cell_type": "code",
   "execution_count": 4,
   "metadata": {},
   "outputs": [],
   "source": [
    "inputRDD = sc.textFile(inputpath)\n",
    "#remove header\n",
    "header = inputRDD.first()\n",
    "inputRDD = inputRDD.filter(lambda x: x != header)"
   ]
  },
  {
   "cell_type": "code",
   "execution_count": 5,
   "metadata": {},
   "outputs": [],
   "source": [
    "reviewsRDD = inputRDD.map(lambda x: x.split(\",\")).map(lambda x: (x[2], x[1])).distinct()"
   ]
  },
  {
   "cell_type": "code",
   "execution_count": 6,
   "metadata": {},
   "outputs": [
    {
     "data": {
      "text/plain": [
       "[('A2', 'B1'),\n",
       " ('A4', 'B1'),\n",
       " ('A2', 'B3'),\n",
       " ('A3', 'B3'),\n",
       " ('A4', 'B3'),\n",
       " ('A4', 'B4'),\n",
       " ('A5', 'B5'),\n",
       " ('A5', 'B1'),\n",
       " ('A1', 'B2'),\n",
       " ('A5', 'B3'),\n",
       " ('A2', 'B5'),\n",
       " ('A4', 'B5')]"
      ]
     },
     "execution_count": 6,
     "metadata": {},
     "output_type": "execute_result"
    }
   ],
   "source": [
    "reviewsRDD.collect()"
   ]
  },
  {
   "cell_type": "code",
   "execution_count": 7,
   "metadata": {},
   "outputs": [],
   "source": [
    "productviewsRDD = reviewsRDD.groupByKey().mapValues(lambda x: list(x))"
   ]
  },
  {
   "cell_type": "code",
   "execution_count": 8,
   "metadata": {},
   "outputs": [
    {
     "data": {
      "text/plain": [
       "[('A2', ['B1', 'B3', 'B5']),\n",
       " ('A4', ['B1', 'B3', 'B4', 'B5']),\n",
       " ('A3', ['B3']),\n",
       " ('A1', ['B2']),\n",
       " ('A5', ['B5', 'B1', 'B3'])]"
      ]
     },
     "execution_count": 8,
     "metadata": {},
     "output_type": "execute_result"
    }
   ],
   "source": [
    "productviewsRDD.collect()"
   ]
  },
  {
   "cell_type": "code",
   "execution_count": 9,
   "metadata": {},
   "outputs": [],
   "source": [
    "productviewsRDD.saveAsTextFile(outputpath1)"
   ]
  },
  {
   "cell_type": "code",
   "execution_count": 37,
   "metadata": {},
   "outputs": [
    {
     "data": {
      "text/plain": [
       "[(('B1', 'B3'), 1),\n",
       " (('B1', 'B5'), 1),\n",
       " (('B3', 'B5'), 1),\n",
       " (('B1', 'B3'), 1),\n",
       " (('B1', 'B4'), 1),\n",
       " (('B1', 'B5'), 1),\n",
       " (('B3', 'B4'), 1),\n",
       " (('B3', 'B5'), 1),\n",
       " (('B4', 'B5'), 1),\n",
       " (('B5', 'B1'), 1),\n",
       " (('B5', 'B3'), 1),\n",
       " (('B1', 'B3'), 1)]"
      ]
     },
     "execution_count": 37,
     "metadata": {},
     "output_type": "execute_result"
    }
   ],
   "source": [
    "#Counts the frequencies of all the pairs of products reviewed together and merges the values of the same key (a,b) == (b,a)\n",
    "def countPairs(x):\n",
    "    pairs = []\n",
    "    for i in range(len(x)):\n",
    "        for j in range(i+1, len(x)):\n",
    "            pairs.append((x[i], x[j]))\n",
    "                \n",
    "    return pairs\n",
    "countPairsRDD = productviewsRDD.flatMapValues(lambda x: (countPairs(x))).map(lambda x: (x[1], 1))\n",
    "countPairsRDD.collect()\n",
    "\n"
   ]
  },
  {
   "cell_type": "code",
   "execution_count": null,
   "metadata": {},
   "outputs": [],
   "source": [
    "# countPairsRDD = countPairsRDD.map(lambda x: (x[0][1], (x[0][0], x[1]))).union(countPairsRDD).reduceByKey(lambda x, y: x + y).map(lambda x: (x[0], x[1][0], x[1][1]))"
   ]
  },
  {
   "cell_type": "code",
   "execution_count": 40,
   "metadata": {},
   "outputs": [],
   "source": [
    "countPairsRDD = countPairsRDD.map(lambda x: (x[0][1], (x[0][0], x[1]))).union(countPairsRDD.map(lambda x: (x[0][0], (x[0][1], x[1])))).reduceByKey(lambda x, y: x + y).map(lambda x: (x[0], x[1][0], x[1][1]))"
   ]
  },
  {
   "cell_type": "code",
   "execution_count": 41,
   "metadata": {},
   "outputs": [
    {
     "data": {
      "text/plain": [
       "[('4', 'B', ('B1', 1)),\n",
       " ('3', 'B', ('B1', 1)),\n",
       " ('B', '3', ('B1', 1)),\n",
       " ('1', 'B', ('B5', 1)),\n",
       " ('5', 'B', ('B1', 1))]"
      ]
     },
     "execution_count": 41,
     "metadata": {},
     "output_type": "execute_result"
    }
   ],
   "source": [
    "countPairsRDD.collect()"
   ]
  },
  {
   "cell_type": "code",
   "execution_count": null,
   "metadata": {},
   "outputs": [],
   "source": []
  }
 ],
 "metadata": {
  "kernelspec": {
   "display_name": "base",
   "language": "python",
   "name": "python3"
  },
  "language_info": {
   "codemirror_mode": {
    "name": "ipython",
    "version": 3
   },
   "file_extension": ".py",
   "mimetype": "text/x-python",
   "name": "python",
   "nbconvert_exporter": "python",
   "pygments_lexer": "ipython3",
   "version": "3.9.12"
  }
 },
 "nbformat": 4,
 "nbformat_minor": 2
}
