{
 "cells": [
  {
   "cell_type": "code",
   "execution_count": 1,
   "metadata": {},
   "outputs": [],
   "source": [
    "#################################\n",
    "# Task 1\n",
    "#################################\n",
    "\n",
    "from pyspark import SparkContext, SparkConf\n",
    "from datetime import datetime\n",
    "conf = SparkConf().setAppName(\"Lab7\")\n",
    "sc = SparkContext(conf=conf)"
   ]
  },
  {
   "cell_type": "code",
   "execution_count": 2,
   "metadata": {},
   "outputs": [],
   "source": [
    "# Set input and output folders\n",
    "inputPath  = \"../ReviewsSample.csv\" # \"ReviewsSample.csv\"\n",
    "outputPath = \"res_out_Lab6/\" "
   ]
  },
  {
   "cell_type": "code",
   "execution_count": 3,
   "metadata": {},
   "outputs": [],
   "source": [
    "# Read the content of the input file\n",
    "reviewsRDD = sc.textFile(inputPath)"
   ]
  },
  {
   "cell_type": "code",
   "execution_count": 4,
   "metadata": {},
   "outputs": [],
   "source": [
    "# Discard the header\n",
    "reviewsRDDnoHeader = reviewsRDD.filter(lambda line: line.startswith(\"Id,\")==False)"
   ]
  },
  {
   "cell_type": "code",
   "execution_count": 15,
   "metadata": {},
   "outputs": [
    {
     "data": {
      "text/plain": [
       "[('A2', 'B1'),\n",
       " ('A4', 'B1'),\n",
       " ('A5', 'B1'),\n",
       " ('A1', 'B2'),\n",
       " ('A2', 'B3'),\n",
       " ('A3', 'B3'),\n",
       " ('A4', 'B3'),\n",
       " ('A5', 'B3'),\n",
       " ('A4', 'B4'),\n",
       " ('A2', 'B5'),\n",
       " ('A4', 'B5'),\n",
       " ('A2', 'B1'),\n",
       " ('A4', 'B5'),\n",
       " ('A5', 'B5')]"
      ]
     },
     "execution_count": 15,
     "metadata": {},
     "output_type": "execute_result"
    }
   ],
   "source": [
    "# This Python function splits the input line and returns a tuple (userId, productId)\n",
    "def extractUserIdProductID(line):\n",
    "    columns = line.split(\",\")\n",
    "    userId= columns[2]\n",
    "    productId= columns[1]\n",
    "    \n",
    "    return (userId,productId)\n",
    "\n",
    "\n",
    "# Generate one pair (UserId, ProductId) from each input line\n",
    "pairUserProductRDD = reviewsRDDnoHeader.map(extractUserIdProductID)\n",
    "pairUserProductRDD.collect()"
   ]
  },
  {
   "cell_type": "code",
   "execution_count": 14,
   "metadata": {},
   "outputs": [
    {
     "data": {
      "text/plain": [
       "[('A2', 'B1'),\n",
       " ('A4', 'B1'),\n",
       " ('A2', 'B3'),\n",
       " ('A3', 'B3'),\n",
       " ('A4', 'B3'),\n",
       " ('A4', 'B4'),\n",
       " ('A5', 'B5'),\n",
       " ('A5', 'B1'),\n",
       " ('A1', 'B2'),\n",
       " ('A5', 'B3'),\n",
       " ('A2', 'B5'),\n",
       " ('A4', 'B5')]"
      ]
     },
     "execution_count": 14,
     "metadata": {},
     "output_type": "execute_result"
    }
   ],
   "source": [
    "# Remove duplicate pairs, if any\n",
    "pairUserProductDistinctRDD = pairUserProductRDD.distinct()\n",
    "pairUserProductDistinctRDD.collect()"
   ]
  },
  {
   "cell_type": "code",
   "execution_count": 9,
   "metadata": {},
   "outputs": [
    {
     "data": {
      "text/plain": [
       "[('A2', ['B1', 'B3', 'B5']),\n",
       " ('A4', ['B1', 'B3', 'B4', 'B5']),\n",
       " ('A3', ['B3']),\n",
       " ('A1', ['B2']),\n",
       " ('A5', ['B5', 'B1', 'B3'])]"
      ]
     },
     "execution_count": 9,
     "metadata": {},
     "output_type": "execute_result"
    }
   ],
   "source": [
    "# Generate one \"transaction\" for each user\n",
    "# (user_id, list of the product_ids reviewed by user_id)\n",
    "UserIDListOfReviewedProductsRDD = pairUserProductDistinctRDD.groupByKey()\n",
    "UserIDListOfReviewedProductsRDD = UserIDListOfReviewedProductsRDD.mapValues(list)\n",
    "UserIDListOfReviewedProductsRDD.take(5)"
   ]
  },
  {
   "cell_type": "code",
   "execution_count": 10,
   "metadata": {},
   "outputs": [
    {
     "data": {
      "text/plain": [
       "[['B1', 'B3', 'B5'],\n",
       " ['B1', 'B3', 'B4', 'B5'],\n",
       " ['B3'],\n",
       " ['B2'],\n",
       " ['B5', 'B1', 'B3']]"
      ]
     },
     "execution_count": 10,
     "metadata": {},
     "output_type": "execute_result"
    }
   ],
   "source": [
    "# We are interested only in the value part (the lists of products that have been reviewed together)\n",
    "transactionsRDD = UserIDListOfReviewedProductsRDD.values()\n",
    "transactionsRDD.take(5)"
   ]
  },
  {
   "cell_type": "code",
   "execution_count": 11,
   "metadata": {},
   "outputs": [
    {
     "data": {
      "text/plain": [
       "[(('B1', 'B3'), 1),\n",
       " (('B1', 'B5'), 1),\n",
       " (('B3', 'B5'), 1),\n",
       " (('B1', 'B3'), 1),\n",
       " (('B1', 'B4'), 1)]"
      ]
     },
     "execution_count": 11,
     "metadata": {},
     "output_type": "execute_result"
    }
   ],
   "source": [
    "# Given an input transaction (i.e., a list of products reviewed by the same user), \n",
    "# this Python function returns all the possible pair of products. Each pair of product is associated with\n",
    "# a frequency equal to 1. Hence, this method returns a set of (key, value) pairs, where\n",
    "# - key = pairs of products\n",
    "# - value = 1\n",
    "def extractPairsOfProducts(transaction):\n",
    "\n",
    "    products = list(transaction)\n",
    "\n",
    "    returnedPairs = []\n",
    "    \n",
    "    for product1 in products:\n",
    "        for product2 in products:\n",
    "            if product1<product2:\n",
    "                returnedPairs.append( ((product1, product2), 1) )\n",
    "                \n",
    "    return returnedPairs\n",
    "\n",
    "\n",
    "# Generate an RDD of (key,value) pairs, where\n",
    "# - key = pairs of products\n",
    "# - value = 1\n",
    "\n",
    "# One pair is returned for each combination of products appearing in the same transaction  \n",
    "pairsOfProductsOneRDD = transactionsRDD.flatMap(extractPairsOfProducts)\n",
    "pairsOfProductsOneRDD.take(5)"
   ]
  },
  {
   "cell_type": "code",
   "execution_count": 12,
   "metadata": {},
   "outputs": [
    {
     "data": {
      "text/plain": [
       "[(('B1', 'B3'), 3),\n",
       " (('B1', 'B4'), 1),\n",
       " (('B3', 'B4'), 1),\n",
       " (('B1', 'B5'), 3),\n",
       " (('B3', 'B5'), 3)]"
      ]
     },
     "execution_count": 12,
     "metadata": {},
     "output_type": "execute_result"
    }
   ],
   "source": [
    "# Count the frequency (i.e., number of occurrences) of each key (= pair of products)\n",
    "pairsFrequenciesRDD = pairsOfProductsOneRDD.reduceByKey(lambda count1, count2: count1 + count2)\n",
    "pairsFrequenciesRDD.take(5)"
   ]
  },
  {
   "cell_type": "code",
   "execution_count": 13,
   "metadata": {},
   "outputs": [
    {
     "data": {
      "text/plain": [
       "[(('B1', 'B3'), 3), (('B1', 'B5'), 3), (('B3', 'B5'), 3)]"
      ]
     },
     "execution_count": 13,
     "metadata": {},
     "output_type": "execute_result"
    }
   ],
   "source": [
    "# Select only the pairs that appear more than once and their frequencies.\n",
    "atLeast2PairsFrequenciesRDD = pairsFrequenciesRDD.filter(lambda inputTuple: inputTuple[1]> 1)\n",
    "atLeast2PairsFrequenciesRDD.take(5)"
   ]
  },
  {
   "cell_type": "code",
   "execution_count": null,
   "metadata": {},
   "outputs": [],
   "source": [
    "# Sort pairs of products by decreasing frequency\n",
    "atLeast2PairsFrequenciesSortedRDD = atLeast2PairsFrequenciesRDD.sortBy(lambda inputTuple: inputTuple[1], False).cache()"
   ]
  },
  {
   "cell_type": "code",
   "execution_count": null,
   "metadata": {},
   "outputs": [],
   "source": [
    "# Store the result in the output folder\n",
    "atLeast2PairsFrequenciesSortedRDD.saveAsTextFile(outputPath)"
   ]
  },
  {
   "cell_type": "code",
   "execution_count": null,
   "metadata": {},
   "outputs": [],
   "source": [
    "#################################\n",
    "# Task 2 - Bonus track\n",
    "#################################"
   ]
  },
  {
   "cell_type": "code",
   "execution_count": null,
   "metadata": {},
   "outputs": [],
   "source": [
    "# The pairs of products in atLeast2PairsFrequenciesSortedRDD are already sorted by frequency.\n",
    "# The first 10 pairs are already the top 10 ones\n",
    "topPairsOfProducts = atLeast2PairsFrequenciesSortedRDD.take(10)"
   ]
  },
  {
   "cell_type": "code",
   "execution_count": null,
   "metadata": {},
   "outputs": [],
   "source": [
    "# Print the selected pairs of products on the standard ouput of the driver\n",
    "for pairOfProducts in topPairsOfProducts:\n",
    "    print(pairOfProducts)"
   ]
  },
  {
   "cell_type": "code",
   "execution_count": null,
   "metadata": {},
   "outputs": [],
   "source": []
  }
 ],
 "metadata": {
  "kernelspec": {
   "display_name": "base",
   "language": "python",
   "name": "python3"
  },
  "language_info": {
   "codemirror_mode": {
    "name": "ipython",
    "version": 3
   },
   "file_extension": ".py",
   "mimetype": "text/x-python",
   "name": "python",
   "nbconvert_exporter": "python",
   "pygments_lexer": "ipython3",
   "version": "3.9.12"
  }
 },
 "nbformat": 4,
 "nbformat_minor": 4
}
